{
 "cells": [
  {
   "cell_type": "code",
   "execution_count": 76,
   "metadata": {},
   "outputs": [],
   "source": [
    "import numpy as np\n",
    "import matplotlib.pyplot as plt\n",
    "import matplotlib.image as mpimg\n",
    "#import cv2 as cv\n",
    "import pandas as pd\n",
    "#import pygame\n",
    "from scipy.linalg import svd, diagsvd\n",
    "import matplotlib.image as mpimg\n",
    "from copy import deepcopy"
   ]
  },
  {
   "cell_type": "code",
   "execution_count": 152,
   "metadata": {},
   "outputs": [
    {
     "name": "stdout",
     "output_type": "stream",
     "text": [
      "   userId  movieId  rating   timestamp\n",
      "0       1       31     2.5  1260759144\n",
      "1       1     1029     3.0  1260759179\n"
     ]
    },
    {
     "data": {
      "text/plain": [
       "9066"
      ]
     },
     "execution_count": 152,
     "metadata": {},
     "output_type": "execute_result"
    }
   ],
   "source": [
    "df = pd.read_csv('ratings_small.csv')\n",
    "print(df.head(2))\n",
    "df = df.pivot(index='userId',columns='movieId',values='rating')\n",
    "df = df.replace(np.nan,0)\n",
    "X = df.to_numpy()\n",
    "X.shape[1]"
   ]
  },
  {
   "cell_type": "code",
   "execution_count": 133,
   "metadata": {},
   "outputs": [],
   "source": [
    "def comprimir (u, s, vt, K):\n",
    "    \"\"\"Remove elementos de u, s e vt deixando somente K componentes restantes\n",
    "    \"\"\" \n",
    "    u_ = u[:,:K]\n",
    "    s_ = s[:K]\n",
    "    vt_ = vt[:K,:]\n",
    "\n",
    "    u_ = np.around(u_,3)\n",
    "    s_ = np.around(s_,3)\n",
    "    vt_ = np.around(vt_,3)\n",
    "    return u_, s_, vt_"
   ]
  },
  {
   "cell_type": "code",
   "execution_count": 158,
   "metadata": {},
   "outputs": [
    {
     "data": {
      "text/plain": [
       "2.5"
      ]
     },
     "execution_count": 158,
     "metadata": {},
     "output_type": "execute_result"
    }
   ],
   "source": [
    "X[0,30]"
   ]
  },
  {
   "cell_type": "code",
   "execution_count": 148,
   "metadata": {},
   "outputs": [
    {
     "name": "stdout",
     "output_type": "stream",
     "text": [
      "4\n"
     ]
    },
    {
     "data": {
      "text/plain": [
       "0.0"
      ]
     },
     "execution_count": 148,
     "metadata": {},
     "output_type": "execute_result"
    }
   ],
   "source": [
    "rating = np.random.randint(1,6)\n",
    "print(rating)\n",
    "i = np.random.randint(0,X.shape[0])\n",
    "j = np.random.randint(0,X.shape[1])\n",
    "\n",
    "Y = deepcopy(X)\n",
    "Y[i,j] = rating\n",
    "X[i,j]"
   ]
  },
  {
   "cell_type": "code",
   "execution_count": 149,
   "metadata": {},
   "outputs": [],
   "source": [
    "def predict(arr,k):\n",
    "    u0, s0, vt0 = svd(arr)\n",
    "    u1,s1,vt1 = comprimir(u0,s0,vt0,k)\n",
    "    # u1,s1,vt1 = u0,s0,vt0\n",
    "    sigma = diagsvd(s1, u1.shape[1], vt1.shape[0])\n",
    "    Y = u1 @ sigma @ vt1\n",
    "    Y = np.around(Y,3)\n",
    "    return Y"
   ]
  },
  {
   "cell_type": "code",
   "execution_count": 150,
   "metadata": {},
   "outputs": [
    {
     "name": "stdout",
     "output_type": "stream",
     "text": [
      "420\n"
     ]
    },
    {
     "data": {
      "text/plain": [
       "0.946"
      ]
     },
     "execution_count": 150,
     "metadata": {},
     "output_type": "execute_result"
    }
   ],
   "source": [
    "k = np.random.randint(0,X.shape[1])\n",
    "print(k)\n",
    "Y = predict(Y,k)\n",
    "Y[i,j]"
   ]
  },
  {
   "cell_type": "code",
   "execution_count": 151,
   "metadata": {},
   "outputs": [
    {
     "data": {
      "text/plain": [
       "0.0"
      ]
     },
     "execution_count": 151,
     "metadata": {},
     "output_type": "execute_result"
    }
   ],
   "source": [
    "X[i,j]"
   ]
  },
  {
   "cell_type": "code",
   "execution_count": 163,
   "metadata": {},
   "outputs": [
    {
     "ename": "KeyboardInterrupt",
     "evalue": "",
     "output_type": "error",
     "traceback": [
      "\u001b[1;31m---------------------------------------------------------------------------\u001b[0m",
      "\u001b[1;31mKeyboardInterrupt\u001b[0m                         Traceback (most recent call last)",
      "\u001b[1;32mc:\\Users\\jalfr\\Desktop\\Python\\Algebra Linear\\Netflix\\Netflix-Sigma\\netfelix.ipynb Cell 9\u001b[0m in \u001b[0;36m<cell line: 2>\u001b[1;34m()\u001b[0m\n\u001b[0;32m      <a href='vscode-notebook-cell:/c%3A/Users/jalfr/Desktop/Python/Algebra%20Linear/Netflix/Netflix-Sigma/netfelix.ipynb#X13sZmlsZQ%3D%3D?line=7'>8</a>\u001b[0m     Y \u001b[39m=\u001b[39m deepcopy(X)\n\u001b[0;32m      <a href='vscode-notebook-cell:/c%3A/Users/jalfr/Desktop/Python/Algebra%20Linear/Netflix/Netflix-Sigma/netfelix.ipynb#X13sZmlsZQ%3D%3D?line=8'>9</a>\u001b[0m     Y[i,j] \u001b[39m=\u001b[39m rating\n\u001b[1;32m---> <a href='vscode-notebook-cell:/c%3A/Users/jalfr/Desktop/Python/Algebra%20Linear/Netflix/Netflix-Sigma/netfelix.ipynb#X13sZmlsZQ%3D%3D?line=10'>11</a>\u001b[0m     Y \u001b[39m=\u001b[39m predict(Y,k)\n\u001b[0;32m     <a href='vscode-notebook-cell:/c%3A/Users/jalfr/Desktop/Python/Algebra%20Linear/Netflix/Netflix-Sigma/netfelix.ipynb#X13sZmlsZQ%3D%3D?line=12'>13</a>\u001b[0m     accuracy\u001b[39m.\u001b[39mappend(Y[i,j]\u001b[39m-\u001b[39mX[i,j])\n\u001b[0;32m     <a href='vscode-notebook-cell:/c%3A/Users/jalfr/Desktop/Python/Algebra%20Linear/Netflix/Netflix-Sigma/netfelix.ipynb#X13sZmlsZQ%3D%3D?line=14'>15</a>\u001b[0m accuracy\n",
      "\u001b[1;32mc:\\Users\\jalfr\\Desktop\\Python\\Algebra Linear\\Netflix\\Netflix-Sigma\\netfelix.ipynb Cell 9\u001b[0m in \u001b[0;36mpredict\u001b[1;34m(arr, k)\u001b[0m\n\u001b[0;32m      <a href='vscode-notebook-cell:/c%3A/Users/jalfr/Desktop/Python/Algebra%20Linear/Netflix/Netflix-Sigma/netfelix.ipynb#X13sZmlsZQ%3D%3D?line=0'>1</a>\u001b[0m \u001b[39mdef\u001b[39;00m \u001b[39mpredict\u001b[39m(arr,k):\n\u001b[1;32m----> <a href='vscode-notebook-cell:/c%3A/Users/jalfr/Desktop/Python/Algebra%20Linear/Netflix/Netflix-Sigma/netfelix.ipynb#X13sZmlsZQ%3D%3D?line=1'>2</a>\u001b[0m     u0, s0, vt0 \u001b[39m=\u001b[39m svd(arr)\n\u001b[0;32m      <a href='vscode-notebook-cell:/c%3A/Users/jalfr/Desktop/Python/Algebra%20Linear/Netflix/Netflix-Sigma/netfelix.ipynb#X13sZmlsZQ%3D%3D?line=2'>3</a>\u001b[0m     u1,s1,vt1 \u001b[39m=\u001b[39m comprimir(u0,s0,vt0,k)\n\u001b[0;32m      <a href='vscode-notebook-cell:/c%3A/Users/jalfr/Desktop/Python/Algebra%20Linear/Netflix/Netflix-Sigma/netfelix.ipynb#X13sZmlsZQ%3D%3D?line=3'>4</a>\u001b[0m     \u001b[39m# u1,s1,vt1 = u0,s0,vt0\u001b[39;00m\n",
      "File \u001b[1;32mc:\\Users\\jalfr\\AppData\\Local\\Programs\\Python\\Python310\\lib\\site-packages\\scipy\\linalg\\decomp_svd.py:130\u001b[0m, in \u001b[0;36msvd\u001b[1;34m(a, full_matrices, compute_uv, overwrite_a, check_finite, lapack_driver)\u001b[0m\n\u001b[0;32m    126\u001b[0m \u001b[39m# perform decomposition\u001b[39;00m\n\u001b[0;32m    127\u001b[0m u, s, v, info \u001b[39m=\u001b[39m gesXd(a1, compute_uv\u001b[39m=\u001b[39mcompute_uv, lwork\u001b[39m=\u001b[39mlwork,\n\u001b[0;32m    128\u001b[0m                       full_matrices\u001b[39m=\u001b[39mfull_matrices, overwrite_a\u001b[39m=\u001b[39moverwrite_a)\n\u001b[1;32m--> 130\u001b[0m \u001b[39mif\u001b[39;00m info \u001b[39m>\u001b[39;49m \u001b[39m0\u001b[39;49m:\n\u001b[0;32m    131\u001b[0m     \u001b[39mraise\u001b[39;00m LinAlgError(\u001b[39m\"\u001b[39m\u001b[39mSVD did not converge\u001b[39m\u001b[39m\"\u001b[39m)\n\u001b[0;32m    132\u001b[0m \u001b[39mif\u001b[39;00m info \u001b[39m<\u001b[39m \u001b[39m0\u001b[39m:\n",
      "\u001b[1;31mKeyboardInterrupt\u001b[0m: "
     ]
    }
   ],
   "source": [
    "accuracy = list()\n",
    "for k in range(12):\n",
    "\n",
    "    rating = np.random.randint(1,6)\n",
    "    i = 0\n",
    "    j = 30\n",
    "\n",
    "    Y = deepcopy(X)\n",
    "    Y[i,j] = rating\n",
    "\n",
    "    Y = predict(Y,k)\n",
    "\n",
    "    accuracy.append(Y[i,j]-X[i,j])\n",
    "\n",
    "accuracy"
   ]
  }
 ],
 "metadata": {
  "kernelspec": {
   "display_name": "Python 3",
   "language": "python",
   "name": "python3"
  },
  "language_info": {
   "codemirror_mode": {
    "name": "ipython",
    "version": 3
   },
   "file_extension": ".py",
   "mimetype": "text/x-python",
   "name": "python",
   "nbconvert_exporter": "python",
   "pygments_lexer": "ipython3",
   "version": "3.10.2"
  },
  "orig_nbformat": 4
 },
 "nbformat": 4,
 "nbformat_minor": 2
}

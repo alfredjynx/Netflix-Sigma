{
 "cells": [
  {
   "cell_type": "code",
   "execution_count": 76,
   "metadata": {},
   "outputs": [],
   "source": [
    "import numpy as np\n",
    "import matplotlib.pyplot as plt\n",
    "import matplotlib.image as mpimg\n",
    "#import cv2 as cv\n",
    "import pandas as pd\n",
    "#import pygame\n",
    "from scipy.linalg import svd, diagsvd\n",
    "import matplotlib.image as mpimg\n",
    "from copy import deepcopy"
   ]
  },
  {
   "cell_type": "code",
   "execution_count": 152,
   "metadata": {},
   "outputs": [
    {
     "name": "stdout",
     "output_type": "stream",
     "text": [
      "   userId  movieId  rating   timestamp\n",
      "0       1       31     2.5  1260759144\n",
      "1       1     1029     3.0  1260759179\n"
     ]
    },
    {
     "data": {
      "text/plain": [
       "9066"
      ]
     },
     "execution_count": 152,
     "metadata": {},
     "output_type": "execute_result"
    }
   ],
   "source": [
    "df = pd.read_csv('ratings_small.csv')\n",
    "print(df.head(2))\n",
    "df = df.pivot(index='userId',columns='movieId',values='rating')\n",
    "df = df.replace(np.nan,0)\n",
    "X = df.to_numpy()\n",
    "X.shape[1]"
   ]
  },
  {
   "cell_type": "code",
   "execution_count": 133,
   "metadata": {},
   "outputs": [],
   "source": [
    "def comprimir (u, s, vt, K):\n",
    "    \"\"\"Remove elementos de u, s e vt deixando somente K componentes restantes\n",
    "    \"\"\" \n",
    "    u_ = u[:,:K]\n",
    "    s_ = s[:K]\n",
    "    vt_ = vt[:K,:]\n",
    "\n",
    "    u_ = np.around(u_,3)\n",
    "    s_ = np.around(s_,3)\n",
    "    vt_ = np.around(vt_,3)\n",
    "    return u_, s_, vt_"
   ]
  },
  {
   "cell_type": "code",
   "execution_count": 158,
   "metadata": {},
   "outputs": [
    {
     "data": {
      "text/plain": [
       "2.5"
      ]
     },
     "execution_count": 158,
     "metadata": {},
     "output_type": "execute_result"
    }
   ],
   "source": [
    "X[0,30]"
   ]
  },
  {
   "cell_type": "code",
   "execution_count": 166,
   "metadata": {},
   "outputs": [
    {
     "name": "stdout",
     "output_type": "stream",
     "text": [
      "5\n"
     ]
    },
    {
     "data": {
      "text/plain": [
       "2.5"
      ]
     },
     "execution_count": 166,
     "metadata": {},
     "output_type": "execute_result"
    }
   ],
   "source": [
    "rating = np.random.randint(1,6)\n",
    "print(rating)\n",
    "i = 0\n",
    "j = 30\n",
    "\n",
    "Y = deepcopy(X)\n",
    "Y[i,j] = rating\n",
    "X[i,j]"
   ]
  },
  {
   "cell_type": "code",
   "execution_count": 149,
   "metadata": {},
   "outputs": [],
   "source": [
    "def predict(arr,k):\n",
    "    u0, s0, vt0 = svd(arr)\n",
    "    u1,s1,vt1 = comprimir(u0,s0,vt0,k)\n",
    "    # u1,s1,vt1 = u0,s0,vt0\n",
    "    sigma = diagsvd(s1, u1.shape[1], vt1.shape[0])\n",
    "    Y = u1 @ sigma @ vt1\n",
    "    Y = np.around(Y,3)\n",
    "    return Y"
   ]
  },
  {
   "cell_type": "code",
   "execution_count": 150,
   "metadata": {},
   "outputs": [
    {
     "name": "stdout",
     "output_type": "stream",
     "text": [
      "420\n"
     ]
    },
    {
     "data": {
      "text/plain": [
       "0.946"
      ]
     },
     "execution_count": 150,
     "metadata": {},
     "output_type": "execute_result"
    }
   ],
   "source": [
    "k = np.random.randint(0,X.shape[1])\n",
    "print(k)\n",
    "Y = predict(Y,k)\n",
    "Y[i,j]"
   ]
  },
  {
   "cell_type": "code",
   "execution_count": 151,
   "metadata": {},
   "outputs": [
    {
     "data": {
      "text/plain": [
       "0.0"
      ]
     },
     "execution_count": 151,
     "metadata": {},
     "output_type": "execute_result"
    }
   ],
   "source": [
    "X[i,j]"
   ]
  },
  {
   "cell_type": "code",
   "execution_count": 165,
   "metadata": {},
   "outputs": [
    {
     "name": "stdout",
     "output_type": "stream",
     "text": [
      "1\n"
     ]
    },
    {
     "data": {
      "text/plain": [
       "[-2.5,\n",
       " -2.49,\n",
       " -2.49,\n",
       " -2.499,\n",
       " -2.506,\n",
       " -2.513,\n",
       " -2.513,\n",
       " -2.517,\n",
       " -2.513,\n",
       " -2.507,\n",
       " -2.509,\n",
       " -2.504]"
      ]
     },
     "execution_count": 165,
     "metadata": {},
     "output_type": "execute_result"
    }
   ],
   "source": [
    "accuracy = list()\n",
    "rating = np.random.randint(1,6)\n",
    "print(rating)\n",
    "for k in range(12):\n",
    "    i = 0\n",
    "    j = 30\n",
    "\n",
    "    Y = deepcopy(X)\n",
    "    Y[i,j] = rating\n",
    "\n",
    "    Y = predict(Y,k)\n",
    "\n",
    "    accuracy.append(Y[i,j]-X[i,j])\n",
    "\n",
    "accuracy"
   ]
  }
 ],
 "metadata": {
  "kernelspec": {
   "display_name": "Python 3",
   "language": "python",
   "name": "python3"
  },
  "language_info": {
   "codemirror_mode": {
    "name": "ipython",
    "version": 3
   },
   "file_extension": ".py",
   "mimetype": "text/x-python",
   "name": "python",
   "nbconvert_exporter": "python",
   "pygments_lexer": "ipython3",
   "version": "3.10.2"
  },
  "orig_nbformat": 4
 },
 "nbformat": 4,
 "nbformat_minor": 2
}
